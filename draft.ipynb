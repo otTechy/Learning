{
 "cells": [
  {
   "cell_type": "code",
   "execution_count": 20,
   "metadata": {},
   "outputs": [
    {
     "name": "stdout",
     "output_type": "stream",
     "text": [
      "None\n",
      "cwen@iupui.edu 5\n"
     ]
    }
   ],
   "source": [
    "stuff = dict()\n",
    "print(stuff.get('candy'))\n",
    "\n",
    "\n",
    "\n"
   ]
  },
  {
   "cell_type": "code",
   "execution_count": 74,
   "metadata": {},
   "outputs": [
    {
     "name": "stdout",
     "output_type": "stream",
     "text": [
      "04 3\n",
      "06 1\n",
      "07 1\n",
      "09 2\n",
      "10 3\n",
      "11 6\n",
      "14 1\n",
      "15 2\n",
      "16 4\n",
      "17 2\n",
      "18 1\n",
      "19 1\n"
     ]
    }
   ],
   "source": [
    "name = input('Enter file:')\n",
    "if len(name) <1: \n",
    "    name = \"mbox-short.txt\"\n",
    "fn = open(name)\n",
    "d = dict()\n",
    "lst = list()\n",
    "for line in fn:\n",
    "    if not line.startswith('From '):\n",
    "        continue\n",
    "    test = line.split()\n",
    "    test = test[5]\n",
    "    time = test[:2]\n",
    "    if time not in d:\n",
    "        d[time] = 1\n",
    "    else:\n",
    "        d[time] = d[time] + 1\n",
    "x= sorted(d.items()) #this is how to sort dictionary\n",
    "for k,v in x:\n",
    "    lst.append([k,v])\n",
    "    print(k,v)\n",
    "\n",
    "\n",
    "# print(sorted([ [k,v] for k,v in d.items()]))\n",
    "# [k,v] this bracket [] will have the outcome without bracket \n",
    "# (k,v) this bracket () will have the outcome with bracket \n",
    "    \n",
    "\n",
    "\n",
    "\n",
    "    "
   ]
  }
 ],
 "metadata": {
  "interpreter": {
   "hash": "262ced8ddc41ef666eb0c09c522a3b4791ec3fe7e0d9dcec09aa3c9daf3d9971"
  },
  "kernelspec": {
   "display_name": "Python 3.10.2 64-bit",
   "language": "python",
   "name": "python3"
  },
  "language_info": {
   "codemirror_mode": {
    "name": "ipython",
    "version": 3
   },
   "file_extension": ".py",
   "mimetype": "text/x-python",
   "name": "python",
   "nbconvert_exporter": "python",
   "pygments_lexer": "ipython3",
   "version": "3.10.2"
  },
  "orig_nbformat": 4
 },
 "nbformat": 4,
 "nbformat_minor": 2
}
