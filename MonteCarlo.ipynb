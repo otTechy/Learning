{
 "cells": [
  {
   "cell_type": "code",
   "execution_count": 8,
   "metadata": {},
   "outputs": [],
   "source": [
    "import pandas as pd\n",
    "import numpy as np\n",
    "import seaborn as sns\n",
    "\n",
    "sns.set_style('whitegrid')\n",
    "avg = 1\n",
    "std_dev = 0.1 #10%\n",
    "num_reps = 500\n",
    "num_simulations = 1000\n",
    "\n",
    "pct_to_target = np.random.normal(avg, std_dev, num_reps).round(2)\n",
    "sales_target_values = [75_000,100_000,200_000,300_000,400_000, 500_000]\n",
    "sales_target_prob = [0.3, 0.3, 0.2, 0.1, 0.05, 0.05]\n",
    "sales_target = np.random.choice(sales_target_values,num_reps, p=sales_target_prob)\n",
    "\n",
    "# build up pandas data frame\n",
    "df = pd.DataFrame(index=range(num_reps), data={'Pct_To_Target': pct_to_target,'Sales_Target': sales_target})\n",
    "df.head() #table looks nicer, return top 5 rows\n",
    "df['Sales'] = df['Pct_To_Target'] * df['Sales_Target']\n",
    "\n",
    "# # Simple histogram to confirm distribution looks as expected\n",
    "pct_to_target[0:10]\n",
    "sales_target[0:10]\n",
    "df['Pct_To_Target'].plot(kind='hist', title='Historical % to Target Distribution')\n"
   ]
  },
  {
   "cell_type": "code",
   "execution_count": 11,
   "metadata": {},
   "outputs": [
    {
     "name": "stdout",
     "output_type": "stream",
     "text": [
      "     Pct_To_Target  Sales_Target     Sales  Commission_Rate  Commission_Amount\n",
      "0             0.84        100000   84000.0             0.02             1680.0\n",
      "1             0.96        100000   96000.0             0.03             2880.0\n",
      "2             1.01         75000   75750.0             0.04             3030.0\n",
      "3             0.89        100000   89000.0             0.02             1780.0\n",
      "4             0.96        500000  480000.0             0.03            14400.0\n",
      "..             ...           ...       ...              ...                ...\n",
      "495           0.94        200000  188000.0             0.03             5640.0\n",
      "496           1.09        200000  218000.0             0.04             8720.0\n",
      "497           1.01        100000  101000.0             0.04             4040.0\n",
      "498           1.00         75000   75000.0             0.04             3000.0\n",
      "499           0.81        200000  162000.0             0.02             3240.0\n",
      "\n",
      "[500 rows x 5 columns]\n"
     ]
    }
   ],
   "source": [
    "# map commission 0-90%: 2% comm; 91%-99%: 3%; 100% and above: 4%\n",
    "def calc_commission_rate(x):\n",
    "    if x<= 0.9: return 0.02\n",
    "    if x<=0.99: return 0.03\n",
    "    else: return 0.04\n",
    "df['Commission_Rate'] = df['Pct_To_Target'].apply(calc_commission_rate)\n",
    "df['Commission_Amount'] = df['Commission_Rate'] * df['Sales']\n",
    "# df.head()\n",
    "print(df)"
   ]
  },
  {
   "cell_type": "code",
   "execution_count": 10,
   "metadata": {},
   "outputs": [
    {
     "name": "stdout",
     "output_type": "stream",
     "text": [
      "86724750.0 2927765.0 86875000\n"
     ]
    },
    {
     "data": {
      "text/html": [
       "<div>\n",
       "<style scoped>\n",
       "    .dataframe tbody tr th:only-of-type {\n",
       "        vertical-align: middle;\n",
       "    }\n",
       "\n",
       "    .dataframe tbody tr th {\n",
       "        vertical-align: top;\n",
       "    }\n",
       "\n",
       "    .dataframe thead th {\n",
       "        text-align: right;\n",
       "    }\n",
       "</style>\n",
       "<table border=\"1\" class=\"dataframe\">\n",
       "  <thead>\n",
       "    <tr style=\"text-align: right;\">\n",
       "      <th></th>\n",
       "      <th>Pct_To_Target</th>\n",
       "      <th>Sales_Target</th>\n",
       "      <th>Sales</th>\n",
       "      <th>Commission_Rate</th>\n",
       "      <th>Commission_Amount</th>\n",
       "    </tr>\n",
       "  </thead>\n",
       "  <tbody>\n",
       "    <tr>\n",
       "      <th>count</th>\n",
       "      <td>500.000000</td>\n",
       "      <td>500.000000</td>\n",
       "      <td>500.000000</td>\n",
       "      <td>500.000000</td>\n",
       "      <td>500.000000</td>\n",
       "    </tr>\n",
       "    <tr>\n",
       "      <th>mean</th>\n",
       "      <td>0.996780</td>\n",
       "      <td>173750.000000</td>\n",
       "      <td>173449.500000</td>\n",
       "      <td>0.033120</td>\n",
       "      <td>5855.530000</td>\n",
       "    </tr>\n",
       "    <tr>\n",
       "      <th>std</th>\n",
       "      <td>0.098751</td>\n",
       "      <td>122053.191121</td>\n",
       "      <td>124646.210051</td>\n",
       "      <td>0.007667</td>\n",
       "      <td>4745.426553</td>\n",
       "    </tr>\n",
       "    <tr>\n",
       "      <th>min</th>\n",
       "      <td>0.720000</td>\n",
       "      <td>75000.000000</td>\n",
       "      <td>57000.000000</td>\n",
       "      <td>0.020000</td>\n",
       "      <td>1140.000000</td>\n",
       "    </tr>\n",
       "    <tr>\n",
       "      <th>25%</th>\n",
       "      <td>0.930000</td>\n",
       "      <td>75000.000000</td>\n",
       "      <td>81000.000000</td>\n",
       "      <td>0.030000</td>\n",
       "      <td>2880.000000</td>\n",
       "    </tr>\n",
       "    <tr>\n",
       "      <th>50%</th>\n",
       "      <td>0.990000</td>\n",
       "      <td>100000.000000</td>\n",
       "      <td>106000.000000</td>\n",
       "      <td>0.030000</td>\n",
       "      <td>4040.000000</td>\n",
       "    </tr>\n",
       "    <tr>\n",
       "      <th>75%</th>\n",
       "      <td>1.070000</td>\n",
       "      <td>200000.000000</td>\n",
       "      <td>220000.000000</td>\n",
       "      <td>0.040000</td>\n",
       "      <td>8400.000000</td>\n",
       "    </tr>\n",
       "    <tr>\n",
       "      <th>max</th>\n",
       "      <td>1.330000</td>\n",
       "      <td>500000.000000</td>\n",
       "      <td>610000.000000</td>\n",
       "      <td>0.040000</td>\n",
       "      <td>24400.000000</td>\n",
       "    </tr>\n",
       "  </tbody>\n",
       "</table>\n",
       "</div>"
      ],
      "text/plain": [
       "       Pct_To_Target   Sales_Target          Sales  Commission_Rate  \\\n",
       "count     500.000000     500.000000     500.000000       500.000000   \n",
       "mean        0.996780  173750.000000  173449.500000         0.033120   \n",
       "std         0.098751  122053.191121  124646.210051         0.007667   \n",
       "min         0.720000   75000.000000   57000.000000         0.020000   \n",
       "25%         0.930000   75000.000000   81000.000000         0.030000   \n",
       "50%         0.990000  100000.000000  106000.000000         0.030000   \n",
       "75%         1.070000  200000.000000  220000.000000         0.040000   \n",
       "max         1.330000  500000.000000  610000.000000         0.040000   \n",
       "\n",
       "       Commission_Amount  \n",
       "count         500.000000  \n",
       "mean         5855.530000  \n",
       "std          4745.426553  \n",
       "min          1140.000000  \n",
       "25%          2880.000000  \n",
       "50%          4040.000000  \n",
       "75%          8400.000000  \n",
       "max         24400.000000  "
      ]
     },
     "execution_count": 10,
     "metadata": {},
     "output_type": "execute_result"
    }
   ],
   "source": [
    "print(df['Sales'].sum(), df['Commission_Amount'].sum(), df['Sales_Target'].sum())\n",
    "df.describe()"
   ]
  },
  {
   "cell_type": "code",
   "execution_count": 4,
   "metadata": {},
   "outputs": [
    {
     "data": {
      "text/plain": [
       "<AxesSubplot:title={'center':'Total Commission Amount'}, ylabel='Frequency'>"
      ]
     },
     "execution_count": 4,
     "metadata": {},
     "output_type": "execute_result"
    },
    {
     "data": {
      "image/png": "[encoded data removed]",
      "text/plain": [
       "<Figure size 432x288 with 1 Axes>"
      ]
     },
     "metadata": {},
     "output_type": "display_data"
    }
   ],
   "source": [
    "# Below is a full code on how Monte Carlo should be written\n",
    "# Define a list to keep all the results from each simulation that we want to analyze\n",
    "all_stats = []\n",
    "\n",
    "#loop through simulation\n",
    "for i in range(num_simulations):\n",
    "    # Choose random inputs for the sales targets and percent to target\n",
    "    sales_target = np.random.choice(sales_target_values, num_reps, p=sales_target_prob)\n",
    "    pct_to_target = np.random.normal(avg, std_dev, num_reps).round(2)\n",
    "    \n",
    "    # Build the dataframe based on the inputs and number of reps\n",
    "    df = pd.DataFrame(index=range(num_reps), data={'Pct_To_Target': pct_to_target,\n",
    "                                                   'Sales_Target': sales_target})\n",
    "    \n",
    "    # Back into the sales number using the percent to target rate\n",
    "    df['Sales'] = df['Pct_To_Target'] * df['Sales_Target']\n",
    "    \n",
    "    # Determine the commissions rate and calculate it\n",
    "    df['Commission_Rate'] = df['Pct_To_Target'].apply(calc_commission_rate)\n",
    "    df['Commission_Amount'] = df['Commission_Rate'] * df['Sales']\n",
    "    \n",
    "    # We want to track sales,commission amounts and sales targets over all the simulations\n",
    "    all_stats.append([df['Sales'].sum().round(0), \n",
    "                      df['Commission_Amount'].sum().round(0), \n",
    "                      df['Sales_Target'].sum().round(0)])\n",
    "results_df = pd.DataFrame.from_records(all_stats, columns=['Sales', 'Commission_Amount', 'Sales_Target'])\n",
    "results_df.describe().round(0).style.format('{:,}')\n",
    "results_df['Commission_Amount'].plot(kind='hist', title=\"Total Commission Amount\")\n",
    "# code from \n",
    "    "
   ]
  }
 ],
 "metadata": {
  "interpreter": {
   "hash": "262ced8ddc41ef666eb0c09c522a3b4791ec3fe7e0d9dcec09aa3c9daf3d9971"
  },
  "kernelspec": {
   "display_name": "Python 3.10.2 64-bit",
   "language": "python",
   "name": "python3"
  },
  "language_info": {
   "codemirror_mode": {
    "name": "ipython",
    "version": 3
   },
   "file_extension": ".py",
   "mimetype": "text/x-python",
   "name": "python",
   "nbconvert_exporter": "python",
   "pygments_lexer": "ipython3",
   "version": "3.10.2"
  },
  "orig_nbformat": 4
 },
 "nbformat": 4,
 "nbformat_minor": 2
}
