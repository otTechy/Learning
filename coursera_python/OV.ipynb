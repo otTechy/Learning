{
 "cells": [
  {
   "cell_type": "code",
   "execution_count": null,
   "metadata": {},
   "outputs": [
    {
     "ename": "ModuleNotFoundError",
     "evalue": "No module named 'pyodbc'",
     "output_type": "error",
     "traceback": [
      "\u001b[1;31m---------------------------------------------------------------------------\u001b[0m",
      "\u001b[1;31mModuleNotFoundError\u001b[0m                       Traceback (most recent call last)",
      "\u001b[1;32mz:\\Python\\OV.ipynb Cell 1'\u001b[0m in \u001b[0;36m<cell line: 1>\u001b[1;34m()\u001b[0m\n\u001b[1;32m----> <a href='vscode-notebook-cell:/z%3A/Python/OV.ipynb#ch0000000?line=0'>1</a>\u001b[0m \u001b[39mimport\u001b[39;00m \u001b[39mpyodbc\u001b[39;00m\n\u001b[0;32m      <a href='vscode-notebook-cell:/z%3A/Python/OV.ipynb#ch0000000?line=1'>2</a>\u001b[0m \u001b[39mimport\u001b[39;00m \u001b[39mpandas\u001b[39;00m \u001b[39mas\u001b[39;00m \u001b[39mpd\u001b[39;00m\n\u001b[0;32m      <a href='vscode-notebook-cell:/z%3A/Python/OV.ipynb#ch0000000?line=2'>3</a>\u001b[0m \u001b[39mfrom\u001b[39;00m \u001b[39mIPython\u001b[39;00m\u001b[39m.\u001b[39;00m\u001b[39mcore\u001b[39;00m\u001b[39m.\u001b[39;00m\u001b[39mdisplay\u001b[39;00m \u001b[39mimport\u001b[39;00m display\n",
      "\u001b[1;31mModuleNotFoundError\u001b[0m: No module named 'pyodbc'"
     ]
    }
   ],
   "source": [
    "import pyodbc\n",
    "import pandas as pd\n",
    "from IPython.core.display import display\n"
   ]
  },
  {
   "cell_type": "code",
   "execution_count": null,
   "metadata": {},
   "outputs": [],
   "source": []
  },
  {
   "cell_type": "code",
   "execution_count": 93,
   "metadata": {},
   "outputs": [],
   "source": [
    "EODReport = \"\"\"Select * from reclusereports.dbo.eodreport Where tradetype!='Forward' and ObservationDate = '2022-03-02'\"\"\"\n",
    "OverridesRep=\"\"\"Select * from reclusereports.dbo.Overrides Where ObservationDate = '2022-03-02' and product='Total'\"\"\"\n",
    "OverridesRepPD=\"\"\"Select * from reclusereports.dbo.Overrides Where ObservationDate = '2022-03-01' and product='Total'\"\"\"\n",
    "connectionstring = \"DRIVER={ODBC Driver 17 for SQL Server};SERVER=sbawsdtsql01q.secbenefit.com\\\\DODS_QA;DATABASE=DODSValuation;integrated security=Yes;Trusted_Connection=Yes\"\n",
    "connection = pyodbc.connect(connectionstring)\n",
    "EODdf = pd.read_sql(EODReport, connection)\n",
    "overridedf=pd.read_sql(OverridesRep, connection)\n",
    "OverridesRepPDdf=pd.read_sql(OverridesRepPD, connection)\n",
    "connection.close()\n"
   ]
  },
  {
   "cell_type": "code",
   "execution_count": 94,
   "metadata": {},
   "outputs": [
    {
     "name": "stdout",
     "output_type": "stream",
     "text": [
      "                     GroupName  Contract  Override\n",
      "0           BNPIHDPL Call 1 YR        86        10\n",
      "1           BNPIHDPL Call 2 YR        75         0\n",
      "2           BXIIMWM7 Call 1 YR       173       115\n",
      "3           BXIIMWM7 Call 2 YR       276       138\n",
      "4                DRLBLEND Call       418         1\n",
      "5                       Future        51        23\n",
      "6                          IRS        63        17\n",
      "7                MSUSMSDA Call       434         1\n",
      "8   MSUSMSDA Synthetic Forward         9         0\n",
      "9            SPLV5UT Call 1 YR       261        55\n",
      "10           SPLV5UT Call 2 YR       331       118\n",
      "11          SPMARC5P Call 1 YR       267       124\n",
      "12          SPMARC5P Call 2 YR       479       115\n",
      "13                    SPX Call       150         2\n",
      "14             SPX Call Spread       304        32\n",
      "15           SPX Monthly Asian        52        25\n",
      "16         SPX Monthly Cliquet       444       336\n",
      "17                         TRS        76         7\n",
      "18            UBSMPI Call 1 YR       305        72\n",
      "19            UBSMPI Call 2 YR       298        95\n"
     ]
    }
   ],
   "source": [
    "Presentdf=pd.DataFrame()\n",
    "\n",
    "Getoverridecolumn=overridedf[[\"GroupName\",\"Contract\",\"Override\"]].replace({'Groupname':{'FEDL01 IRSOIS':'IRS','US0003M IRSFS':'IRS'}})\n",
    "\n",
    "Presentdf=Getoverridecolumn.copy()\n",
    "Presentdf=Presentdf.replace({'GroupName':{'FEDL01 IRSOIS':'IRS','US0003M IRSFS':'IRS'}})\n",
    "Presentdf=Presentdf.groupby(['GroupName'],as_index=False).sum()\n",
    "print(Presentdf)\n"
   ]
  },
  {
   "cell_type": "code",
   "execution_count": 95,
   "metadata": {},
   "outputs": [
    {
     "name": "stdout",
     "output_type": "stream",
     "text": [
      "                     GroupName  Contract  Override    Rule 1\n",
      "0           BNPIHDPL Call 1 YR        86        10  1.000000\n",
      "1           BNPIHDPL Call 2 YR        75         0  0.000000\n",
      "2           BXIIMWM7 Call 1 YR       173       115  1.000000\n",
      "3           BXIIMWM7 Call 2 YR       276       138  0.528986\n",
      "4                DRLBLEND Call       418         1  0.000000\n",
      "5                       Future        51        23  0.000000\n",
      "6                          IRS        63        17  0.000000\n",
      "7                MSUSMSDA Call       434         1  1.000000\n",
      "8   MSUSMSDA Synthetic Forward         9         0  0.000000\n",
      "9            SPLV5UT Call 1 YR       261        55  1.000000\n",
      "10           SPLV5UT Call 2 YR       331       118  0.110169\n",
      "11          SPMARC5P Call 1 YR       267       124  1.000000\n",
      "12          SPMARC5P Call 2 YR       479       115  0.973913\n",
      "13                    SPX Call       150         2  0.000000\n",
      "14             SPX Call Spread       304        32  0.062500\n",
      "15           SPX Monthly Asian        52        25  0.360000\n",
      "16         SPX Monthly Cliquet       444       336  0.776786\n",
      "17                         TRS        76         7  0.000000\n",
      "18            UBSMPI Call 1 YR       305        72  0.958333\n",
      "19            UBSMPI Call 2 YR       298        95  0.800000\n"
     ]
    }
   ],
   "source": [
    "#Rule 1 (Pct Rule)\n",
    "Rule1=EODdf.copy()\n",
    "Rule1=Rule1.replace({'PAMName':{'BNPIHDPL-EUROPEAN - 1 Yr': 'BNPIHDPL Call 1 YR','BNPIHDPL-EUROPEAN - 2 Yr': 'BNPIHDPL Call 2 YR','Null':'IRS','BXIIMWM7-EUROPEAN - 1 Yr':'BXIIMWM7 Call 1 YR','BXIIMWM7-EUROPEAN - 2 Yr':'BXIIMWM7 Call 2 YR','MSUSMSDA-EUROPEAN':'MSUSMSDA Call','MSUSMSDA-SYNTHETICFORWARD':'MSUSMSDA Synthetic Forward','S&P 500 - ASIAN CAPPED':'SPX Monthly Asian','S&P 500 - CLIQUET':'SPX Monthly Cliquet','S&P 500 - Vanilla Call':'SPX Call','S&P 500 - CAPPED':'SPX Call Spread','TRANSPARENT VALUE BLENDED':'DRLBLEND Call','SPLV5UT-EUROPEAN 1 Yr':'SPLV5UT Call 1 YR','SPLV5UT-EUROPEAN 2 Yr':'SPLV5UT Call 2 YR','SPMARC5P Index - 1 Yr':'SPMARC5P Call 1 YR','SPMARC5P Index - 2 Yr':'SPMARC5P Call 2 YR','UBSMPI-EUROPEAN':'UBSMPI Call 1 YR','UBSMPI-EUROPEAN 2 Yr':'UBSMPI Call 2 YR'}})\n",
    "Rule1=Rule1.rename(columns={'PAMName':'GroupName'})\n",
    "Rule1['Rule1 tolerance']=((Rule1['InternalModel']-Rule1['CounterpartyMark'])/Rule1['CounterpartyMark']).abs()\n",
    "Rule1=Rule1[Rule1['Rule1 tolerance']>=pd.to_numeric(Rule1['rule1'])]\n",
    "Rule1=Rule1.groupby(['GroupName'],as_index=False).count()\n",
    "Rule1fin=Rule1[['GroupName','ObservationDate']]\n",
    "Presentdf=pd.merge(Presentdf,Rule1fin,on='GroupName',how='left').fillna(0)\n",
    "Presentdf['Rule 1']=Presentdf['ObservationDate']/Presentdf['Override']\n",
    "Presentdf['Rule 1'] = Presentdf['Rule 1'].fillna(0)\n",
    "Presentdf=Presentdf.drop(columns=['ObservationDate'])\n",
    "\n",
    "print(Presentdf)"
   ]
  },
  {
   "cell_type": "code",
   "execution_count": 96,
   "metadata": {},
   "outputs": [
    {
     "name": "stdout",
     "output_type": "stream",
     "text": [
      "                     GroupName  Contract  Override    Rule 1    Rule 2\n",
      "0           BNPIHDPL Call 1 YR        86        10  1.000000  0.000000\n",
      "1           BNPIHDPL Call 2 YR        75         0  0.000000       NaN\n",
      "2           BXIIMWM7 Call 1 YR       173       115  1.000000  0.330435\n",
      "3           BXIIMWM7 Call 2 YR       276       138  0.528986  1.000000\n",
      "4                DRLBLEND Call       418         1  0.000000  1.000000\n",
      "5                       Future        51        23  0.000000  0.000000\n",
      "6                          IRS        63        17  0.000000  0.000000\n",
      "7                MSUSMSDA Call       434         1  1.000000  1.000000\n",
      "8   MSUSMSDA Synthetic Forward         9         0  0.000000       NaN\n",
      "9            SPLV5UT Call 1 YR       261        55  1.000000  0.454545\n",
      "10           SPLV5UT Call 2 YR       331       118  0.110169  1.000000\n",
      "11          SPMARC5P Call 1 YR       267       124  1.000000  0.040323\n",
      "12          SPMARC5P Call 2 YR       479       115  0.973913  0.156522\n",
      "13                    SPX Call       150         2  0.000000  1.500000\n",
      "14             SPX Call Spread       304        32  0.062500  1.000000\n",
      "15           SPX Monthly Asian        52        25  0.360000  1.000000\n",
      "16         SPX Monthly Cliquet       444       336  0.776786  0.270833\n",
      "17                         TRS        76         7  0.000000  0.142857\n",
      "18            UBSMPI Call 1 YR       305        72  0.958333  0.638889\n",
      "19            UBSMPI Call 2 YR       298        95  0.800000  0.821053\n"
     ]
    }
   ],
   "source": [
    "#Rule 2 (Basis Rule)\n",
    "Rule2=EODdf.copy()\n",
    "Rule2=Rule2.replace({'PAMName':{'BNPIHDPL-EUROPEAN - 1 Yr': 'BNPIHDPL Call 1 YR','BNPIHDPL-EUROPEAN - 2 Yr': 'BNPIHDPL Call 2 YR','Null':'IRS','BXIIMWM7-EUROPEAN - 1 Yr':'BXIIMWM7 Call 1 YR','BXIIMWM7-EUROPEAN - 2 Yr':'BXIIMWM7 Call 2 YR','MSUSMSDA-EUROPEAN':'MSUSMSDA Call','MSUSMSDA-SYNTHETICFORWARD':'MSUSMSDA Synthetic Forward','S&P 500 - ASIAN CAPPED':'SPX Monthly Asian','S&P 500 - CLIQUET':'SPX Monthly Cliquet','S&P 500 - Vanilla Call':'SPX Call','S&P 500 - CAPPED':'SPX Call Spread','TRANSPARENT VALUE BLENDED':'DRLBLEND Call','SPLV5UT-EUROPEAN 1 Yr':'SPLV5UT Call 1 YR','SPLV5UT-EUROPEAN 2 Yr':'SPLV5UT Call 2 YR','SPMARC5P Index - 1 Yr':'SPMARC5P Call 1 YR','SPMARC5P Index - 2 Yr':'SPMARC5P Call 2 YR','UBSMPI-EUROPEAN':'UBSMPI Call 1 YR','UBSMPI-EUROPEAN 2 Yr':'UBSMPI Call 2 YR'}})\n",
    "Rule2=Rule2.rename(columns={'PAMName':'GroupName'})\n",
    "Rule2['Rule2 tolerance']=((Rule2['InternalModel']-Rule2['CounterpartyMark'])/Rule2['Notional']*10000).abs()\n",
    "Rule2=Rule2[Rule2['Rule2 tolerance']>=pd.to_numeric(Rule2['rule2'])]\n",
    "Rule2=Rule2.groupby(['GroupName'],as_index=False).count()\n",
    "Rule2fin=Rule2[['GroupName','ObservationDate']]\n",
    "Presentdf=pd.merge(Presentdf,Rule2fin,on='GroupName',how='left').fillna(0)\n",
    "Presentdf['Rule 2']=Presentdf['ObservationDate']/Presentdf['Override']\n",
    "Presentdf=Presentdf.drop(columns=['ObservationDate'])\n",
    "#Presentdf=Presentdf.style.format({'Rule 2': \"{:,.2%}\"})\n",
    "print(Presentdf)"
   ]
  },
  {
   "cell_type": "code",
   "execution_count": 97,
   "metadata": {},
   "outputs": [
    {
     "name": "stdout",
     "output_type": "stream",
     "text": [
      "              GroupName  Contract  Override    Rule 1    Rule 2  \\\n",
      "0    BNPIHDPL Call 1 YR        86        10  1.000000  0.000000   \n",
      "1    BXIIMWM7 Call 1 YR       173       115  1.000000  0.330435   \n",
      "2    BXIIMWM7 Call 2 YR       276       138  0.528986  1.000000   \n",
      "3         DRLBLEND Call       418         1  0.000000  1.000000   \n",
      "4         MSUSMSDA Call       434         1  1.000000  1.000000   \n",
      "5     SPLV5UT Call 1 YR       261        55  1.000000  0.454545   \n",
      "6     SPLV5UT Call 2 YR       331       118  0.110169  1.000000   \n",
      "7    SPMARC5P Call 1 YR       267       124  1.000000  0.040323   \n",
      "8    SPMARC5P Call 2 YR       479       115  0.973913  0.156522   \n",
      "9              SPX Call       150         2  0.000000  1.500000   \n",
      "10      SPX Call Spread       304        32  0.062500  1.000000   \n",
      "11    SPX Monthly Asian        52        25  0.360000  1.000000   \n",
      "12  SPX Monthly Cliquet       444       336  0.776786  0.270833   \n",
      "13                  TRS        76         7  0.000000  0.142857   \n",
      "14     UBSMPI Call 1 YR       305        72  0.958333  0.638889   \n",
      "15     UBSMPI Call 2 YR       298        95  0.800000  0.821053   \n",
      "\n",
      "    Counterparty Override MV  SBL Override MV  \n",
      "0               6.034286e+03     8.660468e+03  \n",
      "1               4.198295e+06     4.056951e+06  \n",
      "2               7.865320e+06     8.068815e+06  \n",
      "3               8.300924e+04     9.478252e+04  \n",
      "4               0.000000e+00     1.113640e+05  \n",
      "5               2.052430e+06     2.121198e+06  \n",
      "6               5.824302e+06     5.591921e+06  \n",
      "7               2.770502e+06     2.453029e+06  \n",
      "8               2.121101e+06     2.179522e+06  \n",
      "9               8.839801e+05     8.968231e+05  \n",
      "10              7.581679e+06     8.186937e+06  \n",
      "11              6.693460e+05     7.079872e+05  \n",
      "12              7.880964e+06     4.658440e+06  \n",
      "13              8.901712e+04     1.272240e+05  \n",
      "14              3.010299e+06     2.263516e+06  \n",
      "15              3.604557e+06     3.584817e+06  \n"
     ]
    }
   ],
   "source": [
    "#Get Override MKVL\n",
    "OVRIDEMK=EODdf.copy()\n",
    "OVRIDEMK=OVRIDEMK.replace({'PAMName':{'BNPIHDPL-EUROPEAN - 1 Yr': 'BNPIHDPL Call 1 YR','BNPIHDPL-EUROPEAN - 2 Yr': 'BNPIHDPL Call 2 YR','Null':'IRS','BXIIMWM7-EUROPEAN - 1 Yr':'BXIIMWM7 Call 1 YR','BXIIMWM7-EUROPEAN - 2 Yr':'BXIIMWM7 Call 2 YR','MSUSMSDA-EUROPEAN':'MSUSMSDA Call','MSUSMSDA-SYNTHETICFORWARD':'MSUSMSDA Synthetic Forward','S&P 500 - ASIAN CAPPED':'SPX Monthly Asian','S&P 500 - CLIQUET':'SPX Monthly Cliquet','S&P 500 - Vanilla Call':'SPX Call','S&P 500 - CAPPED':'SPX Call Spread','TRANSPARENT VALUE BLENDED':'DRLBLEND Call','SPLV5UT-EUROPEAN 1 Yr':'SPLV5UT Call 1 YR','SPLV5UT-EUROPEAN 2 Yr':'SPLV5UT Call 2 YR','SPMARC5P Index - 1 Yr':'SPMARC5P Call 1 YR','SPMARC5P Index - 2 Yr':'SPMARC5P Call 2 YR','UBSMPI-EUROPEAN':'UBSMPI Call 1 YR','UBSMPI-EUROPEAN 2 Yr':'UBSMPI Call 2 YR'}})\n",
    "OVRIDEMK=OVRIDEMK.rename(columns={'PAMName':'GroupName'})\n",
    "OVRIDEMK=OVRIDEMK.groupby(['GroupName','Source'],as_index=False).sum()\n",
    "OVRIDEMK=OVRIDEMK[OVRIDEMK['Source']=='Internal']\n",
    "OVRIDEMK=OVRIDEMK.rename(columns={'CounterpartyMark':'Counterparty Override MV','InternalModel':'SBL Override MV'})\n",
    "OVRIDEMKcols=OVRIDEMK[[\"GroupName\",\"Counterparty Override MV\",\"SBL Override MV\"]]\n",
    "Presentdf=Presentdf.merge(OVRIDEMKcols,left_on='GroupName',right_on='GroupName')\n",
    "print(Presentdf)"
   ]
  },
  {
   "cell_type": "code",
   "execution_count": 98,
   "metadata": {},
   "outputs": [
    {
     "name": "stdout",
     "output_type": "stream",
     "text": [
      "              GroupName  Contract  Override    Rule 1    Rule 2  \\\n",
      "0    BNPIHDPL Call 1 YR        86        10  1.000000  0.000000   \n",
      "1    BXIIMWM7 Call 1 YR       173       115  1.000000  0.330435   \n",
      "2    BXIIMWM7 Call 2 YR       276       138  0.528986  1.000000   \n",
      "3         DRLBLEND Call       418         1  0.000000  1.000000   \n",
      "4         MSUSMSDA Call       434         1  1.000000  1.000000   \n",
      "5     SPLV5UT Call 1 YR       261        55  1.000000  0.454545   \n",
      "6     SPLV5UT Call 2 YR       331       118  0.110169  1.000000   \n",
      "7    SPMARC5P Call 1 YR       267       124  1.000000  0.040323   \n",
      "8    SPMARC5P Call 2 YR       479       115  0.973913  0.156522   \n",
      "9              SPX Call       150         2  0.000000  1.500000   \n",
      "10      SPX Call Spread       304        32  0.062500  1.000000   \n",
      "11    SPX Monthly Asian        52        25  0.360000  1.000000   \n",
      "12  SPX Monthly Cliquet       444       336  0.776786  0.270833   \n",
      "13                  TRS        76         7  0.000000  0.142857   \n",
      "14     UBSMPI Call 1 YR       305        72  0.958333  0.638889   \n",
      "15     UBSMPI Call 2 YR       298        95  0.800000  0.821053   \n",
      "\n",
      "    Counterparty Override MV  SBL Override MV  CounterpartyMark  InternalModel  \n",
      "0               6.034286e+03     8.660468e+03      1.840404e+06   1.859661e+06  \n",
      "1               4.198295e+06     4.056951e+06      6.231100e+06   6.115950e+06  \n",
      "2               7.865320e+06     8.068815e+06      2.004058e+07   2.019937e+07  \n",
      "3               8.300924e+04     9.478252e+04      1.662718e+08   1.675741e+08  \n",
      "4               0.000000e+00     1.113640e+05      8.165079e+07   8.163152e+07  \n",
      "5               2.052430e+06     2.121198e+06      1.276710e+07   1.244606e+07  \n",
      "6               5.824302e+06     5.591921e+06      2.172326e+07   2.140745e+07  \n",
      "7               2.770502e+06     2.453029e+06      7.638689e+06   7.004313e+06  \n",
      "8               2.121101e+06     2.179522e+06      1.518429e+07   1.462811e+07  \n",
      "9               8.839801e+05     8.968231e+05      1.927147e+07   1.931024e+07  \n",
      "10              7.581679e+06     8.186937e+06      8.256635e+07   8.355034e+07  \n",
      "11              6.693460e+05     7.079872e+05      2.180369e+06   2.221906e+06  \n",
      "12              7.880964e+06     4.658440e+06      1.124650e+07   7.595152e+06  \n",
      "13              8.901712e+04     1.272240e+05      4.113709e+06   4.130811e+06  \n",
      "14              3.010299e+06     2.263516e+06      9.504081e+06   8.727660e+06  \n",
      "15              3.604557e+06     3.584817e+06      1.582077e+07   1.595537e+07  \n"
     ]
    }
   ],
   "source": [
    "#Get Total MVs\n",
    "EODride=EODdf.copy()\n",
    "EODride=EODride.replace({'PAMName':{'BNPIHDPL-EUROPEAN - 1 Yr': 'BNPIHDPL Call 1 YR','BNPIHDPL-EUROPEAN - 2 Yr': 'BNPIHDPL Call 2 YR','Null':'IRS','BXIIMWM7-EUROPEAN - 1 Yr':'BXIIMWM7 Call 1 YR','BXIIMWM7-EUROPEAN - 2 Yr':'BXIIMWM7 Call 2 YR','MSUSMSDA-EUROPEAN':'MSUSMSDA Call','MSUSMSDA-SYNTHETICFORWARD':'MSUSMSDA Synthetic Forward','S&P 500 - ASIAN CAPPED':'SPX Monthly Asian','S&P 500 - CLIQUET':'SPX Monthly Cliquet','S&P 500 - Vanilla Call':'SPX Call','S&P 500 - CAPPED':'SPX Call Spread','TRANSPARENT VALUE BLENDED':'DRLBLEND Call','SPLV5UT-EUROPEAN 1 Yr':'SPLV5UT Call 1 YR','SPLV5UT-EUROPEAN 2 Yr':'SPLV5UT Call 2 YR','SPMARC5P Index - 1 Yr':'SPMARC5P Call 1 YR','SPMARC5P Index - 2 Yr':'SPMARC5P Call 2 YR','UBSMPI-EUROPEAN':'UBSMPI Call 1 YR','UBSMPI-EUROPEAN 2 Yr':'UBSMPI Call 2 YR'}})\n",
    "EODride=EODride.rename(columns={'PAMName':'GroupName'})\n",
    "EODride=EODride.groupby(by='GroupName',as_index=False).sum()\n",
    "EODrideselect=EODride[[\"GroupName\",\"CounterpartyMark\",\"InternalModel\"]]\n",
    "Presentdf=Presentdf.merge(EODrideselect,left_on='GroupName',right_on='GroupName')\n",
    "print(Presentdf)"
   ]
  },
  {
   "cell_type": "code",
   "execution_count": 99,
   "metadata": {},
   "outputs": [
    {
     "name": "stdout",
     "output_type": "stream",
     "text": [
      "              GroupName  Contract  Override    Rule 1    Rule 2  \\\n",
      "0    BNPIHDPL Call 1 YR        86        10  1.000000  0.000000   \n",
      "1    BXIIMWM7 Call 1 YR       173       115  1.000000  0.330435   \n",
      "2    BXIIMWM7 Call 2 YR       276       138  0.528986  1.000000   \n",
      "3         DRLBLEND Call       418         1  0.000000  1.000000   \n",
      "4         MSUSMSDA Call       434         1  1.000000  1.000000   \n",
      "5     SPLV5UT Call 1 YR       261        55  1.000000  0.454545   \n",
      "6     SPLV5UT Call 2 YR       331       118  0.110169  1.000000   \n",
      "7    SPMARC5P Call 1 YR       267       124  1.000000  0.040323   \n",
      "8    SPMARC5P Call 2 YR       479       115  0.973913  0.156522   \n",
      "9              SPX Call       150         2  0.000000  1.500000   \n",
      "10      SPX Call Spread       304        32  0.062500  1.000000   \n",
      "11    SPX Monthly Asian        52        25  0.360000  1.000000   \n",
      "12  SPX Monthly Cliquet       444       336  0.776786  0.270833   \n",
      "13                  TRS        76         7  0.000000  0.142857   \n",
      "14     UBSMPI Call 1 YR       305        72  0.958333  0.638889   \n",
      "15     UBSMPI Call 2 YR       298        95  0.800000  0.821053   \n",
      "\n",
      "    Counterparty Override MV  SBL Override MV  CounterpartyMark  \\\n",
      "0               6.034286e+03     8.660468e+03      1.840404e+06   \n",
      "1               4.198295e+06     4.056951e+06      6.231100e+06   \n",
      "2               7.865320e+06     8.068815e+06      2.004058e+07   \n",
      "3               8.300924e+04     9.478252e+04      1.662718e+08   \n",
      "4               0.000000e+00     1.113640e+05      8.165079e+07   \n",
      "5               2.052430e+06     2.121198e+06      1.276710e+07   \n",
      "6               5.824302e+06     5.591921e+06      2.172326e+07   \n",
      "7               2.770502e+06     2.453029e+06      7.638689e+06   \n",
      "8               2.121101e+06     2.179522e+06      1.518429e+07   \n",
      "9               8.839801e+05     8.968231e+05      1.927147e+07   \n",
      "10              7.581679e+06     8.186937e+06      8.256635e+07   \n",
      "11              6.693460e+05     7.079872e+05      2.180369e+06   \n",
      "12              7.880964e+06     4.658440e+06      1.124650e+07   \n",
      "13              8.901712e+04     1.272240e+05      4.113709e+06   \n",
      "14              3.010299e+06     2.263516e+06      9.504081e+06   \n",
      "15              3.604557e+06     3.584817e+06      1.582077e+07   \n",
      "\n",
      "    InternalModel  PD Override MV  \n",
      "0    1.859661e+06          486.43  \n",
      "1    6.115950e+06      -288263.34  \n",
      "2    2.019937e+07       183728.77  \n",
      "3    1.675741e+08       262834.64  \n",
      "4    8.163152e+07       264692.44  \n",
      "5    1.244606e+07        50583.21  \n",
      "6    2.140745e+07        46573.17  \n",
      "7    7.004313e+06      -220792.68  \n",
      "8    1.462811e+07       137384.15  \n",
      "9    1.931024e+07        -9123.43  \n",
      "10   8.355034e+07       459780.24  \n",
      "11   2.221906e+06        56976.04  \n",
      "12   7.595152e+06     -1465187.56  \n",
      "13   4.130811e+06       192734.91  \n",
      "14   8.727660e+06      -842036.59  \n",
      "15   1.595537e+07       -23045.84  \n"
     ]
    }
   ],
   "source": [
    "#Total Override PD\n",
    "PDOverride=OverridesRepPDdf[[\"GroupName\",\"Override_MV\"]]\n",
    "PDOverride=PDOverride.rename(columns={'Override_MV':'PD Override MV'})\n",
    "Presentdf=pd.merge(Presentdf,PDOverride,on='GroupName',how='left').fillna(0)\n",
    "print(Presentdf)"
   ]
  },
  {
   "cell_type": "code",
   "execution_count": 100,
   "metadata": {},
   "outputs": [
    {
     "name": "stdout",
     "output_type": "stream",
     "text": [
      "              GroupName  Contract  Override    Rule 1    Rule 2  \\\n",
      "0    BNPIHDPL Call 1 YR        86        10  1.000000  0.000000   \n",
      "1    BXIIMWM7 Call 1 YR       173       115  1.000000  0.330435   \n",
      "2    BXIIMWM7 Call 2 YR       276       138  0.528986  1.000000   \n",
      "3         DRLBLEND Call       418         1  0.000000  1.000000   \n",
      "4         MSUSMSDA Call       434         1  1.000000  1.000000   \n",
      "5     SPLV5UT Call 1 YR       261        55  1.000000  0.454545   \n",
      "6     SPLV5UT Call 2 YR       331       118  0.110169  1.000000   \n",
      "7    SPMARC5P Call 1 YR       267       124  1.000000  0.040323   \n",
      "8    SPMARC5P Call 2 YR       479       115  0.973913  0.156522   \n",
      "9              SPX Call       150         2  0.000000  1.500000   \n",
      "10      SPX Call Spread       304        32  0.062500  1.000000   \n",
      "11    SPX Monthly Asian        52        25  0.360000  1.000000   \n",
      "12  SPX Monthly Cliquet       444       336  0.776786  0.270833   \n",
      "13                  TRS        76         7  0.000000  0.142857   \n",
      "14     UBSMPI Call 1 YR       305        72  0.958333  0.638889   \n",
      "15     UBSMPI Call 2 YR       298        95  0.800000  0.821053   \n",
      "\n",
      "    Counterparty Override MV  SBL Override MV  CounterpartyMark  \\\n",
      "0               6.034286e+03     8.660468e+03      1.840404e+06   \n",
      "1               4.198295e+06     4.056951e+06      6.231100e+06   \n",
      "2               7.865320e+06     8.068815e+06      2.004058e+07   \n",
      "3               8.300924e+04     9.478252e+04      1.662718e+08   \n",
      "4               0.000000e+00     1.113640e+05      8.165079e+07   \n",
      "5               2.052430e+06     2.121198e+06      1.276710e+07   \n",
      "6               5.824302e+06     5.591921e+06      2.172326e+07   \n",
      "7               2.770502e+06     2.453029e+06      7.638689e+06   \n",
      "8               2.121101e+06     2.179522e+06      1.518429e+07   \n",
      "9               8.839801e+05     8.968231e+05      1.927147e+07   \n",
      "10              7.581679e+06     8.186937e+06      8.256635e+07   \n",
      "11              6.693460e+05     7.079872e+05      2.180369e+06   \n",
      "12              7.880964e+06     4.658440e+06      1.124650e+07   \n",
      "13              8.901712e+04     1.272240e+05      4.113709e+06   \n",
      "14              3.010299e+06     2.263516e+06      9.504081e+06   \n",
      "15              3.604557e+06     3.584817e+06      1.582077e+07   \n",
      "\n",
      "    InternalModel  PD Override MV  CD Override MV  \n",
      "0    1.859661e+06          486.43         2626.18  \n",
      "1    6.115950e+06      -288263.34      -141344.56  \n",
      "2    2.019937e+07       183728.77       203494.84  \n",
      "3    1.675741e+08       262834.64        11773.28  \n",
      "4    8.163152e+07       264692.44       111364.02  \n",
      "5    1.244606e+07        50583.21        68767.98  \n",
      "6    2.140745e+07        46573.17      -232380.40  \n",
      "7    7.004313e+06      -220792.68      -317472.75  \n",
      "8    1.462811e+07       137384.15        58421.64  \n",
      "9    1.931024e+07        -9123.43        12842.92  \n",
      "10   8.355034e+07       459780.24       605257.95  \n",
      "11   2.221906e+06        56976.04        38641.19  \n",
      "12   7.595152e+06     -1465187.56     -3222524.71  \n",
      "13   4.130811e+06       192734.91       116811.09  \n",
      "14   8.727660e+06      -842036.59      -746782.35  \n",
      "15   1.595537e+07       -23045.84       -19739.62  \n"
     ]
    }
   ],
   "source": [
    "#Total Override CD\n",
    "CDOverride=overridedf[[\"GroupName\",\"Override_MV\"]]\n",
    "CDOverride=CDOverride.rename(columns={'Override_MV':'CD Override MV'})\n",
    "Presentdf=pd.merge(Presentdf,CDOverride,on='GroupName',how='left').fillna(0)\n",
    "print(Presentdf)"
   ]
  },
  {
   "cell_type": "code",
   "execution_count": 101,
   "metadata": {},
   "outputs": [
    {
     "name": "stdout",
     "output_type": "stream",
     "text": [
      "              GroupName  Contract  Override    Rule 1    Rule 2  \\\n",
      "0    BNPIHDPL Call 1 YR        86        10  1.000000  0.000000   \n",
      "1    BXIIMWM7 Call 1 YR       173       115  1.000000  0.330435   \n",
      "2    BXIIMWM7 Call 2 YR       276       138  0.528986  1.000000   \n",
      "3         DRLBLEND Call       418         1  0.000000  1.000000   \n",
      "4         MSUSMSDA Call       434         1  1.000000  1.000000   \n",
      "5     SPLV5UT Call 1 YR       261        55  1.000000  0.454545   \n",
      "6     SPLV5UT Call 2 YR       331       118  0.110169  1.000000   \n",
      "7    SPMARC5P Call 1 YR       267       124  1.000000  0.040323   \n",
      "8    SPMARC5P Call 2 YR       479       115  0.973913  0.156522   \n",
      "9              SPX Call       150         2  0.000000  1.500000   \n",
      "10      SPX Call Spread       304        32  0.062500  1.000000   \n",
      "11    SPX Monthly Asian        52        25  0.360000  1.000000   \n",
      "12  SPX Monthly Cliquet       444       336  0.776786  0.270833   \n",
      "13                  TRS        76         7  0.000000  0.142857   \n",
      "14     UBSMPI Call 1 YR       305        72  0.958333  0.638889   \n",
      "15     UBSMPI Call 2 YR       298        95  0.800000  0.821053   \n",
      "\n",
      "    Counterparty Override MV  SBL Override MV  CounterpartyMark  \\\n",
      "0               6.034286e+03     8.660468e+03      1.840404e+06   \n",
      "1               4.198295e+06     4.056951e+06      6.231100e+06   \n",
      "2               7.865320e+06     8.068815e+06      2.004058e+07   \n",
      "3               8.300924e+04     9.478252e+04      1.662718e+08   \n",
      "4               0.000000e+00     1.113640e+05      8.165079e+07   \n",
      "5               2.052430e+06     2.121198e+06      1.276710e+07   \n",
      "6               5.824302e+06     5.591921e+06      2.172326e+07   \n",
      "7               2.770502e+06     2.453029e+06      7.638689e+06   \n",
      "8               2.121101e+06     2.179522e+06      1.518429e+07   \n",
      "9               8.839801e+05     8.968231e+05      1.927147e+07   \n",
      "10              7.581679e+06     8.186937e+06      8.256635e+07   \n",
      "11              6.693460e+05     7.079872e+05      2.180369e+06   \n",
      "12              7.880964e+06     4.658440e+06      1.124650e+07   \n",
      "13              8.901712e+04     1.272240e+05      4.113709e+06   \n",
      "14              3.010299e+06     2.263516e+06      9.504081e+06   \n",
      "15              3.604557e+06     3.584817e+06      1.582077e+07   \n",
      "\n",
      "    InternalModel  PD Override MV  CD Override MV  T vs T-1 Difference  \n",
      "0    1.859661e+06          486.43         2626.18              2139.75  \n",
      "1    6.115950e+06      -288263.34      -141344.56            146918.78  \n",
      "2    2.019937e+07       183728.77       203494.84             19766.07  \n",
      "3    1.675741e+08       262834.64        11773.28           -251061.36  \n",
      "4    8.163152e+07       264692.44       111364.02           -153328.42  \n",
      "5    1.244606e+07        50583.21        68767.98             18184.77  \n",
      "6    2.140745e+07        46573.17      -232380.40           -278953.57  \n",
      "7    7.004313e+06      -220792.68      -317472.75            -96680.07  \n",
      "8    1.462811e+07       137384.15        58421.64            -78962.51  \n",
      "9    1.931024e+07        -9123.43        12842.92             21966.35  \n",
      "10   8.355034e+07       459780.24       605257.95            145477.71  \n",
      "11   2.221906e+06        56976.04        38641.19            -18334.85  \n",
      "12   7.595152e+06     -1465187.56     -3222524.71          -1757337.15  \n",
      "13   4.130811e+06       192734.91       116811.09            -75923.82  \n",
      "14   8.727660e+06      -842036.59      -746782.35             95254.24  \n",
      "15   1.595537e+07       -23045.84       -19739.62              3306.22  \n"
     ]
    }
   ],
   "source": [
    "#CD-PD overrode\n",
    "Presentdf['T vs T-1 Difference']=(Presentdf['CD Override MV']-Presentdf['PD Override MV'])\n",
    "print(Presentdf)"
   ]
  },
  {
   "cell_type": "code",
   "execution_count": null,
   "metadata": {},
   "outputs": [],
   "source": [
    "#% of Val Override"
   ]
  },
  {
   "cell_type": "code",
   "execution_count": 102,
   "metadata": {},
   "outputs": [],
   "source": [
    "#To excel\n",
    "Presentdf.to_csv('Overridestestdata.csv')\n",
    "#Presentdf=Presentdf.style.format({'Rule 1': \"{:,.2%}\"})"
   ]
  }
 ],
 "metadata": {
  "interpreter": {
   "hash": "1c5f0b699e83443e5c054cb7090f2494ac2c68323d953c58a51274a09c6f68d3"
  },
  "kernelspec": {
   "display_name": "Python 3.9.2 64-bit",
   "language": "python",
   "name": "python3"
  },
  "language_info": {
   "codemirror_mode": {
    "name": "ipython",
    "version": 3
   },
   "file_extension": ".py",
   "mimetype": "text/x-python",
   "name": "python",
   "nbconvert_exporter": "python",
   "pygments_lexer": "ipython3",
   "version": "3.12.0"
  },
  "orig_nbformat": 4
 },
 "nbformat": 4,
 "nbformat_minor": 2
}
